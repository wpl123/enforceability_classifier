{
 "cells": [
  {
   "cell_type": "code",
   "execution_count": 1,
   "metadata": {},
   "outputs": [
    {
     "name": "stdout",
     "output_type": "stream",
     "text": [
      "Requirement already satisfied: tensorflow-gpu in /opt/conda/lib/python3.8/site-packages (2.4.1)\n",
      "Requirement already satisfied: absl-py~=0.10 in /opt/conda/lib/python3.8/site-packages (from tensorflow-gpu) (0.12.0)\n",
      "Requirement already satisfied: google-pasta~=0.2 in /opt/conda/lib/python3.8/site-packages (from tensorflow-gpu) (0.2.0)\n",
      "Requirement already satisfied: numpy~=1.19.2 in /opt/conda/lib/python3.8/site-packages (from tensorflow-gpu) (1.19.4)\n",
      "Requirement already satisfied: opt-einsum~=3.3.0 in /opt/conda/lib/python3.8/site-packages (from tensorflow-gpu) (3.3.0)\n",
      "Requirement already satisfied: six~=1.15.0 in /opt/conda/lib/python3.8/site-packages (from tensorflow-gpu) (1.15.0)\n",
      "Requirement already satisfied: wrapt~=1.12.1 in /opt/conda/lib/python3.8/site-packages (from tensorflow-gpu) (1.12.1)\n",
      "Requirement already satisfied: tensorboard~=2.4 in /opt/conda/lib/python3.8/site-packages (from tensorflow-gpu) (2.5.0)\n",
      "Requirement already satisfied: termcolor~=1.1.0 in /opt/conda/lib/python3.8/site-packages (from tensorflow-gpu) (1.1.0)\n",
      "Requirement already satisfied: protobuf>=3.9.2 in /opt/conda/lib/python3.8/site-packages (from tensorflow-gpu) (3.13.0)\n",
      "Requirement already satisfied: grpcio~=1.32.0 in /opt/conda/lib/python3.8/site-packages (from tensorflow-gpu) (1.32.0)\n",
      "Requirement already satisfied: h5py~=2.10.0 in /opt/conda/lib/python3.8/site-packages (from tensorflow-gpu) (2.10.0)\n",
      "Requirement already satisfied: keras-preprocessing~=1.1.2 in /opt/conda/lib/python3.8/site-packages (from tensorflow-gpu) (1.1.2)\n",
      "Requirement already satisfied: tensorflow-estimator<2.5.0,>=2.4.0 in /opt/conda/lib/python3.8/site-packages (from tensorflow-gpu) (2.4.0)\n",
      "Requirement already satisfied: astunparse~=1.6.3 in /opt/conda/lib/python3.8/site-packages (from tensorflow-gpu) (1.6.3)\n",
      "Requirement already satisfied: gast==0.3.3 in /opt/conda/lib/python3.8/site-packages (from tensorflow-gpu) (0.3.3)\n",
      "Requirement already satisfied: flatbuffers~=1.12.0 in /opt/conda/lib/python3.8/site-packages (from tensorflow-gpu) (1.12)\n",
      "Requirement already satisfied: wheel~=0.35 in /opt/conda/lib/python3.8/site-packages (from tensorflow-gpu) (0.36.0)\n",
      "Requirement already satisfied: typing-extensions~=3.7.4 in /opt/conda/lib/python3.8/site-packages (from tensorflow-gpu) (3.7.4.3)\n",
      "Requirement already satisfied: six~=1.15.0 in /opt/conda/lib/python3.8/site-packages (from tensorflow-gpu) (1.15.0)\n",
      "Requirement already satisfied: wheel~=0.35 in /opt/conda/lib/python3.8/site-packages (from tensorflow-gpu) (0.36.0)\n",
      "Requirement already satisfied: six~=1.15.0 in /opt/conda/lib/python3.8/site-packages (from tensorflow-gpu) (1.15.0)\n",
      "Requirement already satisfied: six~=1.15.0 in /opt/conda/lib/python3.8/site-packages (from tensorflow-gpu) (1.15.0)\n",
      "Requirement already satisfied: six~=1.15.0 in /opt/conda/lib/python3.8/site-packages (from tensorflow-gpu) (1.15.0)\n",
      "Requirement already satisfied: six~=1.15.0 in /opt/conda/lib/python3.8/site-packages (from tensorflow-gpu) (1.15.0)\n",
      "Requirement already satisfied: numpy~=1.19.2 in /opt/conda/lib/python3.8/site-packages (from tensorflow-gpu) (1.19.4)\n",
      "Requirement already satisfied: numpy~=1.19.2 in /opt/conda/lib/python3.8/site-packages (from tensorflow-gpu) (1.19.4)\n",
      "Requirement already satisfied: six~=1.15.0 in /opt/conda/lib/python3.8/site-packages (from tensorflow-gpu) (1.15.0)\n",
      "Requirement already satisfied: numpy~=1.19.2 in /opt/conda/lib/python3.8/site-packages (from tensorflow-gpu) (1.19.4)\n",
      "Requirement already satisfied: six~=1.15.0 in /opt/conda/lib/python3.8/site-packages (from tensorflow-gpu) (1.15.0)\n",
      "Requirement already satisfied: setuptools in /opt/conda/lib/python3.8/site-packages (from protobuf>=3.9.2->tensorflow-gpu) (49.6.0.post20201009)\n",
      "Requirement already satisfied: tensorboard-plugin-wit>=1.6.0 in /opt/conda/lib/python3.8/site-packages (from tensorboard~=2.4->tensorflow-gpu) (1.8.0)\n",
      "Requirement already satisfied: requests<3,>=2.21.0 in /opt/conda/lib/python3.8/site-packages (from tensorboard~=2.4->tensorflow-gpu) (2.25.0)\n",
      "Requirement already satisfied: absl-py~=0.10 in /opt/conda/lib/python3.8/site-packages (from tensorflow-gpu) (0.12.0)\n",
      "Requirement already satisfied: grpcio~=1.32.0 in /opt/conda/lib/python3.8/site-packages (from tensorflow-gpu) (1.32.0)\n",
      "Requirement already satisfied: google-auth<2,>=1.6.3 in /opt/conda/lib/python3.8/site-packages (from tensorboard~=2.4->tensorflow-gpu) (1.30.0)\n",
      "Requirement already satisfied: wheel~=0.35 in /opt/conda/lib/python3.8/site-packages (from tensorflow-gpu) (0.36.0)\n",
      "Requirement already satisfied: google-auth-oauthlib<0.5,>=0.4.1 in /opt/conda/lib/python3.8/site-packages (from tensorboard~=2.4->tensorflow-gpu) (0.4.4)\n",
      "Requirement already satisfied: numpy~=1.19.2 in /opt/conda/lib/python3.8/site-packages (from tensorflow-gpu) (1.19.4)\n",
      "Requirement already satisfied: markdown>=2.6.8 in /opt/conda/lib/python3.8/site-packages (from tensorboard~=2.4->tensorflow-gpu) (3.3.4)\n",
      "Requirement already satisfied: protobuf>=3.9.2 in /opt/conda/lib/python3.8/site-packages (from tensorflow-gpu) (3.13.0)\n",
      "Requirement already satisfied: setuptools in /opt/conda/lib/python3.8/site-packages (from protobuf>=3.9.2->tensorflow-gpu) (49.6.0.post20201009)\n",
      "Requirement already satisfied: werkzeug>=0.11.15 in /opt/conda/lib/python3.8/site-packages (from tensorboard~=2.4->tensorflow-gpu) (1.0.1)\n",
      "Requirement already satisfied: tensorboard-data-server<0.7.0,>=0.6.0 in /opt/conda/lib/python3.8/site-packages (from tensorboard~=2.4->tensorflow-gpu) (0.6.0)\n",
      "Requirement already satisfied: rsa<5,>=3.1.4 in /opt/conda/lib/python3.8/site-packages (from google-auth<2,>=1.6.3->tensorboard~=2.4->tensorflow-gpu) (4.7.2)\n",
      "Requirement already satisfied: cachetools<5.0,>=2.0.0 in /opt/conda/lib/python3.8/site-packages (from google-auth<2,>=1.6.3->tensorboard~=2.4->tensorflow-gpu) (4.2.2)\n",
      "Requirement already satisfied: setuptools in /opt/conda/lib/python3.8/site-packages (from protobuf>=3.9.2->tensorflow-gpu) (49.6.0.post20201009)\n",
      "Requirement already satisfied: pyasn1-modules>=0.2.1 in /opt/conda/lib/python3.8/site-packages (from google-auth<2,>=1.6.3->tensorboard~=2.4->tensorflow-gpu) (0.2.8)\n",
      "Requirement already satisfied: six~=1.15.0 in /opt/conda/lib/python3.8/site-packages (from tensorflow-gpu) (1.15.0)\n",
      "Requirement already satisfied: google-auth<2,>=1.6.3 in /opt/conda/lib/python3.8/site-packages (from tensorboard~=2.4->tensorflow-gpu) (1.30.0)\n",
      "Requirement already satisfied: requests-oauthlib>=0.7.0 in /opt/conda/lib/python3.8/site-packages (from google-auth-oauthlib<0.5,>=0.4.1->tensorboard~=2.4->tensorflow-gpu) (1.3.0)\n",
      "Requirement already satisfied: pyasn1<0.5.0,>=0.4.6 in /opt/conda/lib/python3.8/site-packages (from pyasn1-modules>=0.2.1->google-auth<2,>=1.6.3->tensorboard~=2.4->tensorflow-gpu) (0.4.8)\n",
      "Requirement already satisfied: chardet<4,>=3.0.2 in /opt/conda/lib/python3.8/site-packages (from requests<3,>=2.21.0->tensorboard~=2.4->tensorflow-gpu) (3.0.4)\n",
      "Requirement already satisfied: certifi>=2017.4.17 in /opt/conda/lib/python3.8/site-packages (from requests<3,>=2.21.0->tensorboard~=2.4->tensorflow-gpu) (2020.11.8)\n",
      "Requirement already satisfied: urllib3<1.27,>=1.21.1 in /opt/conda/lib/python3.8/site-packages (from requests<3,>=2.21.0->tensorboard~=2.4->tensorflow-gpu) (1.25.11)\n",
      "Requirement already satisfied: idna<3,>=2.5 in /opt/conda/lib/python3.8/site-packages (from requests<3,>=2.21.0->tensorboard~=2.4->tensorflow-gpu) (2.10)\n",
      "Requirement already satisfied: oauthlib>=3.0.0 in /opt/conda/lib/python3.8/site-packages (from requests-oauthlib>=0.7.0->google-auth-oauthlib<0.5,>=0.4.1->tensorboard~=2.4->tensorflow-gpu) (3.0.1)\n",
      "Requirement already satisfied: requests<3,>=2.21.0 in /opt/conda/lib/python3.8/site-packages (from tensorboard~=2.4->tensorflow-gpu) (2.25.0)\n",
      "Requirement already satisfied: pyasn1<0.5.0,>=0.4.6 in /opt/conda/lib/python3.8/site-packages (from pyasn1-modules>=0.2.1->google-auth<2,>=1.6.3->tensorboard~=2.4->tensorflow-gpu) (0.4.8)\n",
      "Collecting nltk\n",
      "  Downloading nltk-3.6.2-py3-none-any.whl (1.5 MB)\n",
      "\u001b[K     |████████████████████████████████| 1.5 MB 4.2 MB/s eta 0:00:01\n",
      "\u001b[?25hRequirement already satisfied: tqdm in /opt/conda/lib/python3.8/site-packages (from nltk) (4.54.0)\n",
      "Requirement already satisfied: click in /opt/conda/lib/python3.8/site-packages (from nltk) (7.1.2)\n",
      "Requirement already satisfied: joblib in /opt/conda/lib/python3.8/site-packages (from nltk) (0.17.0)\n",
      "Collecting regex\n",
      "  Downloading regex-2021.4.4-cp38-cp38-manylinux2014_x86_64.whl (733 kB)\n",
      "\u001b[K     |████████████████████████████████| 733 kB 3.8 MB/s eta 0:00:01\n",
      "\u001b[?25hInstalling collected packages: regex, nltk\n",
      "Successfully installed nltk-3.6.2 regex-2021.4.4\n",
      "Collecting keras\n",
      "  Downloading Keras-2.4.3-py2.py3-none-any.whl (36 kB)\n",
      "Requirement already satisfied: scipy>=0.14 in /opt/conda/lib/python3.8/site-packages (from keras) (1.5.3)\n",
      "Requirement already satisfied: pyyaml in /opt/conda/lib/python3.8/site-packages (from keras) (5.3.1)\n",
      "Requirement already satisfied: numpy>=1.9.1 in /opt/conda/lib/python3.8/site-packages (from keras) (1.19.4)\n",
      "Requirement already satisfied: h5py in /opt/conda/lib/python3.8/site-packages (from keras) (2.10.0)\n",
      "Requirement already satisfied: six in /opt/conda/lib/python3.8/site-packages (from h5py->keras) (1.15.0)\n",
      "Requirement already satisfied: numpy>=1.9.1 in /opt/conda/lib/python3.8/site-packages (from keras) (1.19.4)\n",
      "Requirement already satisfied: numpy>=1.9.1 in /opt/conda/lib/python3.8/site-packages (from keras) (1.19.4)\n",
      "Installing collected packages: keras\n",
      "Successfully installed keras-2.4.3\n",
      "Collecting wordcloud\n",
      "  Downloading wordcloud-1.8.1-cp38-cp38-manylinux1_x86_64.whl (371 kB)\n",
      "\u001b[K     |████████████████████████████████| 371 kB 4.2 MB/s eta 0:00:01\n",
      "\u001b[?25hRequirement already satisfied: matplotlib in /opt/conda/lib/python3.8/site-packages (from wordcloud) (3.3.3)\n",
      "Requirement already satisfied: pillow in /opt/conda/lib/python3.8/site-packages (from wordcloud) (8.0.1)\n",
      "Requirement already satisfied: numpy>=1.6.1 in /opt/conda/lib/python3.8/site-packages (from wordcloud) (1.19.4)\n",
      "Requirement already satisfied: kiwisolver>=1.0.1 in /opt/conda/lib/python3.8/site-packages (from matplotlib->wordcloud) (1.3.1)\n",
      "Requirement already satisfied: numpy>=1.6.1 in /opt/conda/lib/python3.8/site-packages (from wordcloud) (1.19.4)\n",
      "Requirement already satisfied: python-dateutil>=2.1 in /opt/conda/lib/python3.8/site-packages (from matplotlib->wordcloud) (2.8.1)\n",
      "Requirement already satisfied: pillow in /opt/conda/lib/python3.8/site-packages (from wordcloud) (8.0.1)\n",
      "Requirement already satisfied: cycler>=0.10 in /opt/conda/lib/python3.8/site-packages (from matplotlib->wordcloud) (0.10.0)\n",
      "Requirement already satisfied: pyparsing!=2.0.4,!=2.1.2,!=2.1.6,>=2.0.3 in /opt/conda/lib/python3.8/site-packages (from matplotlib->wordcloud) (2.4.7)\n",
      "Requirement already satisfied: six in /opt/conda/lib/python3.8/site-packages (from cycler>=0.10->matplotlib->wordcloud) (1.15.0)\n",
      "Requirement already satisfied: six in /opt/conda/lib/python3.8/site-packages (from cycler>=0.10->matplotlib->wordcloud) (1.15.0)\n",
      "Installing collected packages: wordcloud\n",
      "Successfully installed wordcloud-1.8.1\n"
     ]
    }
   ],
   "source": [
    "# https://towardsdatascience.com/multi-class-text-classification-with-lstm-1590bee1bd17\n",
    "\n",
    "!pip install tensorflow-gpu\n",
    "!pip install nltk\n",
    "!pip install keras\n",
    "!pip install wordcloud"
   ]
  },
  {
   "cell_type": "code",
   "execution_count": 3,
   "metadata": {},
   "outputs": [
    {
     "name": "stderr",
     "output_type": "stream",
     "text": [
      "[nltk_data] Downloading package stopwords to /home/jovyan/nltk_data...\n",
      "[nltk_data]   Unzipping corpora/stopwords.zip.\n"
     ]
    }
   ],
   "source": [
    "import numpy as np\n",
    "import nltk\n",
    "import joblib\n",
    "import re\n",
    "#import pydot\n",
    "from wordcloud import WordCloud, ImageColorGenerator\n",
    "#import tensorflow as tf\n",
    "#from tensorflow import keras\n",
    "from keras.preprocessing.text import Tokenizer\n",
    "from keras.preprocessing.sequence import pad_sequences\n",
    "from keras.models import Sequential\n",
    "from keras.layers import Dense, Embedding, LSTM, SpatialDropout1D\n",
    "from keras.utils.np_utils import to_categorical\n",
    "from keras.callbacks import EarlyStopping\n",
    "from keras.layers import Dropout\n",
    "import pandas as pd\n",
    "import seaborn as sns\n",
    "#import plotly.graph_objects as go\n",
    "#import chart_studio.plotly as py\n",
    "from pylab import rcParams\n",
    "import matplotlib.pyplot as plt\n",
    "from matplotlib import rc\n",
    "from sklearn.model_selection import train_test_split\n",
    "from pandas.plotting import register_matplotlib_converters\n",
    "from nltk.corpus import stopwords\n",
    "from nltk import word_tokenize\n",
    "nltk.download('stopwords')\n",
    "STOPWORDS = set(stopwords.words('english'))\n",
    "\n",
    "#import numpy as np \n",
    "#import pandas as pd\n",
    "#import matplotlib.pyplot as plt\n",
    "#import seaborn as sns\n",
    "#from keras.preprocessing.text import Tokenizer\n",
    "#from keras.preprocessing.sequence import pad_sequences\n",
    "#from keras.models import Sequential\n",
    "#from keras.layers import Dense, Embedding, LSTM, SpatialDropout1D\n",
    "#from sklearn.model_selection import train_test_split\n",
    "#from keras.utils.np_utils import to_categorical\n",
    "#from keras.callbacks import EarlyStopping\n",
    "#from keras.layers import Dropout\n",
    "#import re\n",
    "#from nltk.corpus import stopwords\n",
    "#from nltk import word_tokenize\n",
    "#STOPWORDS = set(stopwords.words('english'))\n",
    "#from bs4 import BeautifulSoup\n",
    "#import plotly.graph_objs as go\n",
    "#import plotly.plotly as py\n",
    "#import cufflinks\n",
    "#from IPython.core.interactiveshell import InteractiveShell\n",
    "#import plotly.figure_factory as ff\n",
    "#InteractiveShell.ast_node_interactivity = 'all'\n",
    "#from plotly.offline import iplot\n",
    "#cufflinks.go_offline()\n",
    "#cufflinks.set_config_file(world_readable=True, theme='pearl')"
   ]
  },
  {
   "cell_type": "code",
   "execution_count": 4,
   "metadata": {},
   "outputs": [],
   "source": [
    "df = pd.read_csv('coded_sub_section.csv',header=0)\n"
   ]
  },
  {
   "cell_type": "code",
   "execution_count": 5,
   "metadata": {},
   "outputs": [
    {
     "data": {
      "text/html": [
       "<div>\n",
       "<style scoped>\n",
       "    .dataframe tbody tr th:only-of-type {\n",
       "        vertical-align: middle;\n",
       "    }\n",
       "\n",
       "    .dataframe tbody tr th {\n",
       "        vertical-align: top;\n",
       "    }\n",
       "\n",
       "    .dataframe thead th {\n",
       "        text-align: right;\n",
       "    }\n",
       "</style>\n",
       "<table border=\"1\" class=\"dataframe\">\n",
       "  <thead>\n",
       "    <tr style=\"text-align: right;\">\n",
       "      <th></th>\n",
       "      <th>Textfile</th>\n",
       "      <th>Determination_Year</th>\n",
       "      <th>Sub_Header</th>\n",
       "      <th>Sub_Section</th>\n",
       "      <th>Cond_Category</th>\n",
       "      <th>EScore</th>\n",
       "    </tr>\n",
       "  </thead>\n",
       "  <tbody>\n",
       "    <tr>\n",
       "      <th>0</th>\n",
       "      <td>/home/admin/dockers/masters/data/pdfminer/sear...</td>\n",
       "      <td>2012.0</td>\n",
       "      <td>Pollution of Waters</td>\n",
       "      <td>Except as may be expressly provided by a OEH ...</td>\n",
       "      <td>1</td>\n",
       "      <td>0.8550</td>\n",
       "    </tr>\n",
       "    <tr>\n",
       "      <th>1</th>\n",
       "      <td>/home/admin/dockers/masters/data/pdfminer/sear...</td>\n",
       "      <td>2012.0</td>\n",
       "      <td>Creek Diversions for the Underground Project</td>\n",
       "      <td>The Proponent shall carry out the proposed di...</td>\n",
       "      <td>1</td>\n",
       "      <td>0.4275</td>\n",
       "    </tr>\n",
       "    <tr>\n",
       "      <th>2</th>\n",
       "      <td>/home/admin/dockers/masters/data/pdfminer/sear...</td>\n",
       "      <td>2012.0</td>\n",
       "      <td>Creek Diversions for the Underground Project</td>\n",
       "      <td>Within 6 months of completing the construction...</td>\n",
       "      <td>1</td>\n",
       "      <td>0.6650</td>\n",
       "    </tr>\n",
       "    <tr>\n",
       "      <th>3</th>\n",
       "      <td>/home/admin/dockers/masters/data/pdfminer/sear...</td>\n",
       "      <td>2012.0</td>\n",
       "      <td>Discharge</td>\n",
       "      <td>Except as may be expressly provided for by an...</td>\n",
       "      <td>1</td>\n",
       "      <td>0.8550</td>\n",
       "    </tr>\n",
       "    <tr>\n",
       "      <th>4</th>\n",
       "      <td>/home/admin/dockers/masters/data/pdfminer/sear...</td>\n",
       "      <td>2012.0</td>\n",
       "      <td>Discharge</td>\n",
       "      <td>However water may be transferred between the s...</td>\n",
       "      <td>1</td>\n",
       "      <td>0.5400</td>\n",
       "    </tr>\n",
       "  </tbody>\n",
       "</table>\n",
       "</div>"
      ],
      "text/plain": [
       "                                            Textfile  Determination_Year  \\\n",
       "0  /home/admin/dockers/masters/data/pdfminer/sear...              2012.0   \n",
       "1  /home/admin/dockers/masters/data/pdfminer/sear...              2012.0   \n",
       "2  /home/admin/dockers/masters/data/pdfminer/sear...              2012.0   \n",
       "3  /home/admin/dockers/masters/data/pdfminer/sear...              2012.0   \n",
       "4  /home/admin/dockers/masters/data/pdfminer/sear...              2012.0   \n",
       "\n",
       "                                     Sub_Header  \\\n",
       "0                           Pollution of Waters   \n",
       "1  Creek Diversions for the Underground Project   \n",
       "2  Creek Diversions for the Underground Project   \n",
       "3                                     Discharge   \n",
       "4                                     Discharge   \n",
       "\n",
       "                                         Sub_Section  Cond_Category  EScore  \n",
       "0   Except as may be expressly provided by a OEH ...              1  0.8550  \n",
       "1   The Proponent shall carry out the proposed di...              1  0.4275  \n",
       "2  Within 6 months of completing the construction...              1  0.6650  \n",
       "3   Except as may be expressly provided for by an...              1  0.8550  \n",
       "4  However water may be transferred between the s...              1  0.5400  "
      ]
     },
     "execution_count": 5,
     "metadata": {},
     "output_type": "execute_result"
    }
   ],
   "source": [
    "df.head()"
   ]
  },
  {
   "cell_type": "code",
   "execution_count": 6,
   "metadata": {},
   "outputs": [
    {
     "data": {
      "text/plain": [
       "(1033, 6)"
      ]
     },
     "execution_count": 6,
     "metadata": {},
     "output_type": "execute_result"
    }
   ],
   "source": [
    "df.shape"
   ]
  },
  {
   "cell_type": "code",
   "execution_count": 7,
   "metadata": {},
   "outputs": [
    {
     "data": {
      "text/plain": [
       "3    401\n",
       "4    263\n",
       "1    197\n",
       "2    172\n",
       "Name: Cond_Category, dtype: int64"
      ]
     },
     "execution_count": 7,
     "metadata": {},
     "output_type": "execute_result"
    }
   ],
   "source": [
    "df.Cond_Category.value_counts()"
   ]
  },
  {
   "cell_type": "code",
   "execution_count": 8,
   "metadata": {},
   "outputs": [
    {
     "data": {
      "text/plain": [
       "<AxesSubplot:title={'center':'Condition Count Chart by Category'}, xlabel='Category', ylabel='No of Conditions'>"
      ]
     },
     "execution_count": 8,
     "metadata": {},
     "output_type": "execute_result"
    },
    {
     "data": {
      "image/png": "[encoded data removed]",
      "text/plain": [
       "<Figure size 720x720 with 1 Axes>"
      ]
     },
     "metadata": {
      "needs_background": "light"
     },
     "output_type": "display_data"
    }
   ],
   "source": [
    "fields = [401,263,197,172]\n",
    "data = []\n",
    "data.append(fields)\n",
    "cols = ['Mgt Plan','Water Supply','Water Qality','Compensation']\n",
    "df_cat = pd.DataFrame(data=data,columns=cols)\n",
    "df_cat.plot.bar(rot=0,title='Condition Count Chart by Category',xlabel='Category',ylabel='No of Conditions',figsize=(10,10))\n",
    "#df['Stars'].value_counts().plot.bar(rot=0,title='Condition Star Count Chart',xlabel='Stars',ylabel='No of Conditions',figsize=(10,10))"
   ]
  },
  {
   "cell_type": "code",
   "execution_count": null,
   "metadata": {},
   "outputs": [],
   "source": []
  },
  {
   "cell_type": "code",
   "execution_count": 9,
   "metadata": {},
   "outputs": [
    {
     "data": {
      "text/plain": [
       "2015.0    144\n",
       "2019.0    131\n",
       "2016.0    125\n",
       "2012.0    114\n",
       "2014.0     99\n",
       "2017.0     94\n",
       "2018.0     91\n",
       "2020.0     88\n",
       "2013.0     54\n",
       "2021.0     20\n",
       "Name: Determination_Year, dtype: int64"
      ]
     },
     "execution_count": 9,
     "metadata": {},
     "output_type": "execute_result"
    }
   ],
   "source": [
    "df.Determination_Year.value_counts()"
   ]
  },
  {
   "cell_type": "code",
   "execution_count": 10,
   "metadata": {},
   "outputs": [],
   "source": [
    "df = df.drop(['Textfile','Sub_Header','Cond_Category','Determination_Year'],axis=1)"
   ]
  },
  {
   "cell_type": "code",
   "execution_count": 11,
   "metadata": {},
   "outputs": [
    {
     "data": {
      "text/html": [
       "<div>\n",
       "<style scoped>\n",
       "    .dataframe tbody tr th:only-of-type {\n",
       "        vertical-align: middle;\n",
       "    }\n",
       "\n",
       "    .dataframe tbody tr th {\n",
       "        vertical-align: top;\n",
       "    }\n",
       "\n",
       "    .dataframe thead th {\n",
       "        text-align: right;\n",
       "    }\n",
       "</style>\n",
       "<table border=\"1\" class=\"dataframe\">\n",
       "  <thead>\n",
       "    <tr style=\"text-align: right;\">\n",
       "      <th></th>\n",
       "      <th>Sub_Section</th>\n",
       "      <th>EScore</th>\n",
       "      <th>Stars</th>\n",
       "    </tr>\n",
       "  </thead>\n",
       "  <tbody>\n",
       "    <tr>\n",
       "      <th>0</th>\n",
       "      <td>Except as may be expressly provided by a OEH ...</td>\n",
       "      <td>0.8550</td>\n",
       "      <td>0</td>\n",
       "    </tr>\n",
       "    <tr>\n",
       "      <th>1</th>\n",
       "      <td>The Proponent shall carry out the proposed di...</td>\n",
       "      <td>0.4275</td>\n",
       "      <td>0</td>\n",
       "    </tr>\n",
       "    <tr>\n",
       "      <th>2</th>\n",
       "      <td>Within 6 months of completing the construction...</td>\n",
       "      <td>0.6650</td>\n",
       "      <td>0</td>\n",
       "    </tr>\n",
       "    <tr>\n",
       "      <th>3</th>\n",
       "      <td>Except as may be expressly provided for by an...</td>\n",
       "      <td>0.8550</td>\n",
       "      <td>0</td>\n",
       "    </tr>\n",
       "    <tr>\n",
       "      <th>4</th>\n",
       "      <td>However water may be transferred between the s...</td>\n",
       "      <td>0.5400</td>\n",
       "      <td>0</td>\n",
       "    </tr>\n",
       "  </tbody>\n",
       "</table>\n",
       "</div>"
      ],
      "text/plain": [
       "                                         Sub_Section  EScore  Stars\n",
       "0   Except as may be expressly provided by a OEH ...  0.8550      0\n",
       "1   The Proponent shall carry out the proposed di...  0.4275      0\n",
       "2  Within 6 months of completing the construction...  0.6650      0\n",
       "3   Except as may be expressly provided for by an...  0.8550      0\n",
       "4  However water may be transferred between the s...  0.5400      0"
      ]
     },
     "execution_count": 11,
     "metadata": {},
     "output_type": "execute_result"
    }
   ],
   "source": [
    "df['Stars'] = 0\n",
    "df.head()"
   ]
  },
  {
   "cell_type": "code",
   "execution_count": 12,
   "metadata": {},
   "outputs": [],
   "source": [
    "for i in range(len(df)):\n",
    "    if df.iloc[i,1] == 0:\n",
    "        df.iloc[i,2] = 0\n",
    "    elif df.iloc[i,1] < .2:\n",
    "        df.iloc[i,2] = 1\n",
    "    elif df.iloc[i,1] < .4:\n",
    "        df.iloc[i,2] = 2\n",
    "    elif df.iloc[i,1] < .6:\n",
    "        df.iloc[i,2] = 3\n",
    "    elif df.iloc[i,1] < .8:\n",
    "        df.iloc[i,2] = 4\n",
    "    elif df.iloc[i,1] > .8:\n",
    "        df.iloc[i,2] = 5  \n",
    "        \n",
    "df = df.drop(['EScore'],axis=1)"
   ]
  },
  {
   "cell_type": "code",
   "execution_count": 13,
   "metadata": {},
   "outputs": [
    {
     "name": "stdout",
     "output_type": "stream",
     "text": [
      "{\"should've\", 'because', \"you've\", 'weren', 'haven', 'after', 'what', 'y', 'a', \"that'll\", 'than', 'her', 'off', 'yourself', 'has', 'he', 'these', 'our', 'how', \"won't\", 'just', \"hasn't\", \"mightn't\", 'which', 'she', 'this', 'where', \"it's\", 'up', \"didn't\", 'shan', 'shouldn', 'm', 're', 'not', 'mustn', 'more', \"mustn't\", 'too', 'myself', 'had', \"don't\", 'ours', 'is', 'you', 'over', 'once', 'down', 'mightn', \"hadn't\", 'that', 'ain', 'didn', 'here', 'was', 'above', 'does', 'ma', 'hadn', 'there', \"haven't\", 'about', 'most', \"needn't\", 'hasn', 'until', 'but', 'having', 'doing', \"aren't\", 'aren', 'them', 'themselves', 'they', 'all', 'nor', 'own', 'd', 'it', 'out', 'needn', 'no', 'when', 'wouldn', 'should', 'if', 'during', 'each', 'isn', 'are', 'an', 'won', \"you'll\", \"you're\", 'through', 've', \"she's\", 'been', 'for', 'only', 'the', 'other', 'doesn', 'such', 'do', 'any', 'ourselves', 'very', 'those', 'with', \"you'd\", 'against', 'now', 'am', 'some', \"weren't\", 'so', 'as', 'hers', 'by', 'were', 'my', \"wouldn't\", 'wasn', 'have', 'theirs', \"isn't\", \"doesn't\", 'yours', 'yourselves', 'few', 'don', 'will', 'their', 'both', 'further', 'be', 'into', 'your', 'under', \"couldn't\", 'in', 'why', 'at', 'who', 'me', 'couldn', 'below', 'll', 's', 'again', 'can', 'o', 'i', 'we', \"wasn't\", 'to', 'or', 'its', 'before', 'himself', 't', 'did', 'herself', 'whom', 'and', 'his', 'between', 'then', 'from', 'same', 'on', 'him', 'itself', 'being', 'while', \"shouldn't\", 'of', \"shan't\"}\n"
     ]
    }
   ],
   "source": [
    "print(STOPWORDS)"
   ]
  },
  {
   "cell_type": "markdown",
   "metadata": {},
   "source": [
    "# Text Processing \n",
    "\n",
    "- Convert all text to lower case.\n",
    "- Replace REPLACE_BY_SPACE_RE symbols by space in text.\n",
    "- Remove symbols that are in BAD_SYMBOLS_RE from text.\n",
    "- Remove stop words.\n",
    "- Remove digits in text.\n",
    "- Remove single letters\n"
   ]
  },
  {
   "cell_type": "code",
   "execution_count": 14,
   "metadata": {},
   "outputs": [],
   "source": [
    "df = df.reset_index(drop=True)\n",
    "REPLACE_BY_SPACE_RE = re.compile('[/(){}\\[\\]\\|@,;]')\n",
    "BAD_SYMBOLS_RE = re.compile('[^0-9a-z #+_]')\n",
    "SINGLE_LETTERS_RE = re.compile('\\s+[a-zA-Z]\\s+')\n",
    "STOPWORDS = set(stopwords.words('english'))\n",
    "STOPWORDS.remove('should')\n",
    "STOPWORDS.add('applicant')\n",
    "STOPWORDS.add('proponent')\n",
    "STOPWORDS.add('groundwater')\n",
    "STOPWORDS.add('water')\n",
    "STOPWORDS.add('environment')\n",
    "STOPWORDS.add('act')\n",
    "STOPWORDS.add('project')\n",
    "STOPWORDS.add('creek')\n",
    "\n",
    "\n",
    "def clean_text(text):\n",
    "    \"\"\"\n",
    "        text: a string\n",
    "        \n",
    "        return: modified initial string\n",
    "    \"\"\"\n",
    "    text = text.lower() # lowercase text\n",
    "    text = REPLACE_BY_SPACE_RE.sub(' ', text) # replace REPLACE_BY_SPACE_RE symbols by space in text. substitute the matched string in REPLACE_BY_SPACE_RE with space.\n",
    "    text = BAD_SYMBOLS_RE.sub('', text) # remove symbols which are in BAD_SYMBOLS_RE from text. substitute the matched string in BAD_SYMBOLS_RE with nothing. \n",
    "#    text = SINGLE_LETTERS_RE.sub('', text) # remove single letters\n",
    "#    text = text.replace('x', '')\n",
    "#    text = re.sub(r'\\W+', '', text)\n",
    "    text = ' '.join(word for word in text.split() if word not in STOPWORDS) # remove stopwords from text\n",
    "    return text\n",
    "\n",
    "df['Sub_Section'] = df['Sub_Section'].apply(clean_text)\n",
    "df['Sub_Section'] = df['Sub_Section'].str.replace('\\d+', '')"
   ]
  },
  {
   "cell_type": "code",
   "execution_count": 15,
   "metadata": {},
   "outputs": [
    {
     "name": "stdout",
     "output_type": "stream",
     "text": [
      "plan must consistent requirements managing urban stormwater soils construction manual landcom  latest version ii identify activities could cause soil erosion generate sediment iii describe measures minimise soil erosion potential transport sediment downstream waters iv describe location function capacity erosion sediment control structures v describe measures would implemented monitor maintain structures time\n"
     ]
    }
   ],
   "source": [
    "print(df['Sub_Section'][600])"
   ]
  },
  {
   "cell_type": "code",
   "execution_count": 16,
   "metadata": {},
   "outputs": [
    {
     "data": {
      "text/plain": [
       "count                                                  1033\n",
       "unique                                                  436\n",
       "top       compensatory supply measures must provide alte...\n",
       "freq                                                     45\n",
       "Name: Sub_Section, dtype: object"
      ]
     },
     "execution_count": 16,
     "metadata": {},
     "output_type": "execute_result"
    }
   ],
   "source": [
    "df['Sub_Section'].describe()"
   ]
  },
  {
   "cell_type": "code",
   "execution_count": 17,
   "metadata": {},
   "outputs": [
    {
     "name": "stdout",
     "output_type": "stream",
     "text": [
      "Total words: 19255\n"
     ]
    },
    {
     "data": {
      "text/html": [
       "<div>\n",
       "<style scoped>\n",
       "    .dataframe tbody tr th:only-of-type {\n",
       "        vertical-align: middle;\n",
       "    }\n",
       "\n",
       "    .dataframe tbody tr th {\n",
       "        vertical-align: top;\n",
       "    }\n",
       "\n",
       "    .dataframe thead th {\n",
       "        text-align: right;\n",
       "    }\n",
       "</style>\n",
       "<table border=\"1\" class=\"dataframe\">\n",
       "  <thead>\n",
       "    <tr style=\"text-align: right;\">\n",
       "      <th></th>\n",
       "      <th>0</th>\n",
       "    </tr>\n",
       "  </thead>\n",
       "  <tbody>\n",
       "    <tr>\n",
       "      <th>count</th>\n",
       "      <td>1033.000000</td>\n",
       "    </tr>\n",
       "    <tr>\n",
       "      <th>mean</th>\n",
       "      <td>18.639884</td>\n",
       "    </tr>\n",
       "    <tr>\n",
       "      <th>std</th>\n",
       "      <td>18.078587</td>\n",
       "    </tr>\n",
       "    <tr>\n",
       "      <th>min</th>\n",
       "      <td>1.000000</td>\n",
       "    </tr>\n",
       "    <tr>\n",
       "      <th>25%</th>\n",
       "      <td>9.000000</td>\n",
       "    </tr>\n",
       "    <tr>\n",
       "      <th>50%</th>\n",
       "      <td>13.000000</td>\n",
       "    </tr>\n",
       "    <tr>\n",
       "      <th>75%</th>\n",
       "      <td>20.000000</td>\n",
       "    </tr>\n",
       "    <tr>\n",
       "      <th>max</th>\n",
       "      <td>283.000000</td>\n",
       "    </tr>\n",
       "  </tbody>\n",
       "</table>\n",
       "</div>"
      ],
      "text/plain": [
       "                 0\n",
       "count  1033.000000\n",
       "mean     18.639884\n",
       "std      18.078587\n",
       "min       1.000000\n",
       "25%       9.000000\n",
       "50%      13.000000\n",
       "75%      20.000000\n",
       "max     283.000000"
      ]
     },
     "execution_count": 17,
     "metadata": {},
     "output_type": "execute_result"
    }
   ],
   "source": [
    "\n",
    "#count no of words in the sub_section string and in the total in the all the conditions\n",
    "def word_count(text):\n",
    "\n",
    "    return(len(text.strip().split(\" \")))\n",
    "\n",
    "\n",
    "tot_word = 0\n",
    "word_no = []\n",
    "for i in range(len(df)):\n",
    "    \n",
    "    word_no.append(word_count(str(df.iloc[i,0])))\n",
    "    tot_word = tot_word + (word_count(str(df.iloc[i,0])))\n",
    "\n",
    "df_word = pd.DataFrame(data=word_no,index=None)\n",
    "                                     \n",
    "print(f\"Total words: {tot_word}\")\n",
    "df_word.describe()\n",
    "\n"
   ]
  },
  {
   "cell_type": "code",
   "execution_count": 18,
   "metadata": {},
   "outputs": [
    {
     "data": {
      "text/plain": [
       "<AxesSubplot:title={'center':'Condition Word Count Chart'}, xlabel='Word Count', ylabel='No of Conditions'>"
      ]
     },
     "execution_count": 18,
     "metadata": {},
     "output_type": "execute_result"
    },
    {
     "data": {
      "image/png": "[encoded data removed]",
      "text/plain": [
       "<Figure size 1800x720 with 1 Axes>"
      ]
     },
     "metadata": {
      "needs_background": "light"
     },
     "output_type": "display_data"
    }
   ],
   "source": [
    "df_word[0].value_counts().plot.bar(rot=0,title='Condition Word Count Chart',xlabel='Word Count',ylabel='No of Conditions',figsize=(25,10))"
   ]
  },
  {
   "cell_type": "code",
   "execution_count": 19,
   "metadata": {},
   "outputs": [
    {
     "data": {
      "text/plain": [
       "<AxesSubplot:title={'center':'Condition Star Count Chart'}, xlabel='Stars', ylabel='No of Conditions'>"
      ]
     },
     "execution_count": 19,
     "metadata": {},
     "output_type": "execute_result"
    },
    {
     "data": {
      "image/png": "[encoded data removed]",
      "text/plain": [
       "<Figure size 720x720 with 1 Axes>"
      ]
     },
     "metadata": {
      "needs_background": "light"
     },
     "output_type": "display_data"
    }
   ],
   "source": [
    "df['Stars'].value_counts().plot.bar(rot=0,title='Condition Star Count Chart',xlabel='Stars',ylabel='No of Conditions',figsize=(10,10))\n",
    "#df.Stars.value_counts().plot.hist(bins=5,title='Condition Star Count Chart',xlabel='Stars',ylabel='No of Conditions',figsize=(10,10))\n"
   ]
  },
  {
   "cell_type": "code",
   "execution_count": 20,
   "metadata": {},
   "outputs": [
    {
     "data": {
      "image/png": "[encoded data removed]",
      "text/plain": [
       "<Figure size 432x288 with 1 Axes>"
      ]
     },
     "metadata": {
      "needs_background": "light"
     },
     "output_type": "display_data"
    },
    {
     "data": {
      "text/plain": [
       "<wordcloud.wordcloud.WordCloud at 0x7f7c5875a760>"
      ]
     },
     "execution_count": 20,
     "metadata": {},
     "output_type": "execute_result"
    }
   ],
   "source": [
    "wordcloud = WordCloud(max_words=100, stopwords=STOPWORDS, background_color=\"white\",width=1200,height=800).generate(str(df['Sub_Section']))\n",
    "# Display the generated image:\n",
    "plt.imshow(wordcloud, interpolation='bilinear', )\n",
    "plt.axis(\"off\")\n",
    "plt.show()\n",
    "\n",
    "# Save the image in the img folder:\n",
    "wordcloud.to_file(\"wordcloud.png\")"
   ]
  },
  {
   "cell_type": "markdown",
   "metadata": {},
   "source": [
    "# Tokenising\n",
    "\n",
    "- Vectorize text into either a sequence of integers or into a vector.\n",
    "- Limit the data set to the top 125,0000 words.\n",
    "- Set the max number of words for each sub_section at 500.\n",
    "- Truncate and pad the subsections with zeros\n"
   ]
  },
  {
   "cell_type": "code",
   "execution_count": 21,
   "metadata": {},
   "outputs": [
    {
     "name": "stdout",
     "output_type": "stream",
     "text": [
      "Found 1006 unique tokens.\n",
      "Shape of data tensor: (1033, 100)\n",
      "Shape of label tensor: (1033, 6)\n"
     ]
    }
   ],
   "source": [
    "# The maximum number of words to be used. (most frequent)\n",
    "MAX_NB_WORDS = 3000\n",
    "# Max number of words in each complaint.\n",
    "MAX_SEQUENCE_LENGTH = 100\n",
    "# This is fixed.\n",
    "EMBEDDING_DIM = 100\n",
    "tokenizer = Tokenizer(num_words=MAX_NB_WORDS, filters='!\"#$%&()*+,-./:;<=>?@[\\]^_`{|}~', lower=True)\n",
    "tokenizer.fit_on_texts(df['Sub_Section'].values)\n",
    "word_index = tokenizer.word_index\n",
    "print('Found %s unique tokens.' % len(word_index))\n",
    "\n",
    "X = tokenizer.texts_to_sequences(df['Sub_Section'].values)\n",
    "X = pad_sequences(X, maxlen=MAX_SEQUENCE_LENGTH)\n",
    "print('Shape of data tensor:', X.shape)\n",
    "\n",
    "\n",
    "Y = pd.get_dummies(df['Stars']).values\n",
    "print('Shape of label tensor:', Y.shape)"
   ]
  },
  {
   "cell_type": "code",
   "execution_count": 22,
   "metadata": {},
   "outputs": [
    {
     "name": "stdout",
     "output_type": "stream",
     "text": [
      "[5 3 4 ... 3 3 2]\n"
     ]
    }
   ],
   "source": [
    "print((df['Stars']).values)"
   ]
  },
  {
   "cell_type": "code",
   "execution_count": 23,
   "metadata": {},
   "outputs": [
    {
     "data": {
      "text/plain": [
       "count    1033.000000\n",
       "mean        3.013553\n",
       "std         1.471239\n",
       "min         0.000000\n",
       "25%         2.000000\n",
       "50%         3.000000\n",
       "75%         4.000000\n",
       "max         5.000000\n",
       "Name: Stars, dtype: float64"
      ]
     },
     "execution_count": 23,
     "metadata": {},
     "output_type": "execute_result"
    }
   ],
   "source": [
    "df['Stars'].describe()"
   ]
  },
  {
   "cell_type": "code",
   "execution_count": 24,
   "metadata": {},
   "outputs": [
    {
     "name": "stdout",
     "output_type": "stream",
     "text": [
      "(929, 100) (929, 6)\n",
      "(104, 100) (104, 6)\n"
     ]
    }
   ],
   "source": [
    "X_train, X_test, Y_train, Y_test = train_test_split(X,Y, test_size = 0.10, random_state = 42)\n",
    "print(X_train.shape,Y_train.shape)\n",
    "print(X_test.shape,Y_test.shape)"
   ]
  },
  {
   "cell_type": "code",
   "execution_count": 25,
   "metadata": {},
   "outputs": [],
   "source": [
    "#sns.lineplot(x=train.index, y=\"Stars\", data=train);\n",
    "#sns.lineplot(x=test.index, y=\"Stars\", data=test);"
   ]
  },
  {
   "cell_type": "code",
   "execution_count": 26,
   "metadata": {},
   "outputs": [
    {
     "name": "stdout",
     "output_type": "stream",
     "text": [
      "Model: \"sequential\"\n",
      "_________________________________________________________________\n",
      "Layer (type)                 Output Shape              Param #   \n",
      "=================================================================\n",
      "embedding (Embedding)        (None, 100, 100)          300000    \n",
      "_________________________________________________________________\n",
      "spatial_dropout1d (SpatialDr (None, 100, 100)          0         \n",
      "_________________________________________________________________\n",
      "lstm (LSTM)                  (None, 100)               80400     \n",
      "_________________________________________________________________\n",
      "dense (Dense)                (None, 6)                 606       \n",
      "=================================================================\n",
      "Total params: 381,006\n",
      "Trainable params: 381,006\n",
      "Non-trainable params: 0\n",
      "_________________________________________________________________\n",
      "None\n"
     ]
    }
   ],
   "source": [
    "model = Sequential()\n",
    "model.add(Embedding(MAX_NB_WORDS, EMBEDDING_DIM, input_length=X.shape[1]))\n",
    "model.add(SpatialDropout1D(0.2))\n",
    "model.add(LSTM(100, dropout=0.2, recurrent_dropout=0.2))\n",
    "model.add(Dense(6, activation='softmax'))\n",
    "model.compile(loss='categorical_crossentropy', optimizer='adam', metrics=['accuracy'])\n",
    "print(model.summary())"
   ]
  },
  {
   "cell_type": "code",
   "execution_count": 27,
   "metadata": {},
   "outputs": [
    {
     "name": "stdout",
     "output_type": "stream",
     "text": [
      "Epoch 1/20\n",
      "14/14 [==============================] - 6s 163ms/step - loss: 1.7529 - accuracy: 0.3469 - val_loss: 1.4570 - val_accuracy: 0.3871\n",
      "Epoch 2/20\n",
      "14/14 [==============================] - 2s 125ms/step - loss: 1.6205 - accuracy: 0.3814 - val_loss: 1.3048 - val_accuracy: 0.6237\n",
      "Epoch 3/20\n",
      "14/14 [==============================] - 2s 121ms/step - loss: 1.3114 - accuracy: 0.5855 - val_loss: 0.9480 - val_accuracy: 0.6882\n",
      "Epoch 4/20\n",
      "14/14 [==============================] - 2s 130ms/step - loss: 0.9855 - accuracy: 0.6803 - val_loss: 0.6974 - val_accuracy: 0.8387\n",
      "Epoch 5/20\n",
      "14/14 [==============================] - 2s 124ms/step - loss: 0.7602 - accuracy: 0.7500 - val_loss: 0.6129 - val_accuracy: 0.8280\n",
      "Epoch 6/20\n",
      "14/14 [==============================] - 2s 122ms/step - loss: 0.5508 - accuracy: 0.8142 - val_loss: 0.4716 - val_accuracy: 0.8817\n",
      "Epoch 7/20\n",
      "14/14 [==============================] - 2s 123ms/step - loss: 0.3988 - accuracy: 0.8577 - val_loss: 0.3886 - val_accuracy: 0.9032\n",
      "Epoch 8/20\n",
      "14/14 [==============================] - 2s 124ms/step - loss: 0.3472 - accuracy: 0.9014 - val_loss: 0.3578 - val_accuracy: 0.9032\n",
      "Epoch 9/20\n",
      "14/14 [==============================] - 2s 123ms/step - loss: 0.2218 - accuracy: 0.9491 - val_loss: 0.3582 - val_accuracy: 0.9355\n",
      "Epoch 10/20\n",
      "14/14 [==============================] - 2s 125ms/step - loss: 0.1867 - accuracy: 0.9522 - val_loss: 0.3794 - val_accuracy: 0.8710\n",
      "Epoch 11/20\n",
      "14/14 [==============================] - 2s 124ms/step - loss: 0.2523 - accuracy: 0.9232 - val_loss: 0.3208 - val_accuracy: 0.8925\n",
      "Epoch 12/20\n",
      "14/14 [==============================] - 2s 124ms/step - loss: 0.2132 - accuracy: 0.9491 - val_loss: 0.2963 - val_accuracy: 0.8925\n",
      "Epoch 13/20\n",
      "14/14 [==============================] - 2s 124ms/step - loss: 0.1785 - accuracy: 0.9537 - val_loss: 0.2750 - val_accuracy: 0.9355\n",
      "Epoch 14/20\n",
      "14/14 [==============================] - 2s 123ms/step - loss: 0.1399 - accuracy: 0.9665 - val_loss: 0.3272 - val_accuracy: 0.9032\n",
      "Epoch 15/20\n",
      "14/14 [==============================] - 2s 126ms/step - loss: 0.1061 - accuracy: 0.9667 - val_loss: 0.3124 - val_accuracy: 0.9247\n",
      "Epoch 16/20\n",
      "14/14 [==============================] - 2s 123ms/step - loss: 0.0736 - accuracy: 0.9842 - val_loss: 0.3517 - val_accuracy: 0.9247\n"
     ]
    }
   ],
   "source": [
    "epochs = 20\n",
    "batch_size = 64\n",
    "\n",
    "history = model.fit(X_train, Y_train, epochs=epochs, batch_size=batch_size,validation_split=0.1,callbacks=[EarlyStopping(monitor='val_loss', patience=3, min_delta=0.0001)])"
   ]
  },
  {
   "cell_type": "code",
   "execution_count": 28,
   "metadata": {},
   "outputs": [
    {
     "name": "stdout",
     "output_type": "stream",
     "text": [
      "4/4 [==============================] - 0s 14ms/step - loss: 0.2703 - accuracy: 0.9231\n",
      "Test set\n",
      "  Loss: 0.270\n",
      "  Accuracy: 0.923\n"
     ]
    }
   ],
   "source": [
    "# save the model to disk\n",
    "model.save('jup_enforceability_model.h5')\n",
    "joblib.dump(tokenizer, \"jup_data_tokenizer.joblib\")\n",
    "\n",
    "accr = model.evaluate(X_test,Y_test)\n",
    "print('Test set\\n  Loss: {:0.3f}\\n  Accuracy: {:0.3f}'.format(accr[0],accr[1]))"
   ]
  },
  {
   "cell_type": "code",
   "execution_count": 29,
   "metadata": {},
   "outputs": [
    {
     "data": {
      "image/png": "[encoded data removed]",
      "text/plain": [
       "<Figure size 432x288 with 1 Axes>"
      ]
     },
     "metadata": {
      "needs_background": "light"
     },
     "output_type": "display_data"
    }
   ],
   "source": [
    "plt.title('Loss')\n",
    "plt.plot(history.history['loss'], label='train')\n",
    "plt.plot(history.history['val_loss'], label='test')\n",
    "plt.legend();"
   ]
  },
  {
   "cell_type": "code",
   "execution_count": 30,
   "metadata": {},
   "outputs": [
    {
     "name": "stdout",
     "output_type": "stream",
     "text": [
      "{'loss': [1.7133771181106567, 1.5335850715637207, 1.2505934238433838, 0.9369984269142151, 0.6903740763664246, 0.5066092014312744, 0.3798176050186157, 0.3023759126663208, 0.24132584035396576, 0.19058778882026672, 0.2623439431190491, 0.20033393800258636, 0.16395708918571472, 0.12553037703037262, 0.09807603061199188, 0.07295000553131104], 'accuracy': [0.339712917804718, 0.4665071666240692, 0.589712917804718, 0.7105262875556946, 0.7739234566688538, 0.8361244201660156, 0.8755980730056763, 0.9162679314613342, 0.9389952421188354, 0.9521530866622925, 0.9198564887046814, 0.9557416439056396, 0.9605262875556946, 0.9724880456924438, 0.9748803973197937, 0.9880383014678955], 'val_loss': [1.4569628238677979, 1.3048464059829712, 0.9480290412902832, 0.6974490880966187, 0.6128886938095093, 0.4715885818004608, 0.38859325647354126, 0.35779476165771484, 0.3581622838973999, 0.37942975759506226, 0.32075732946395874, 0.2963147759437561, 0.2749814987182617, 0.32724323868751526, 0.31241005659103394, 0.3516962230205536], 'val_accuracy': [0.3870967626571655, 0.6236559152603149, 0.6881720423698425, 0.8387096524238586, 0.8279569745063782, 0.8817204236984253, 0.9032257795333862, 0.9032257795333862, 0.9354838728904724, 0.8709677457809448, 0.8924731016159058, 0.8924731016159058, 0.9354838728904724, 0.9032257795333862, 0.9247311949729919, 0.9247311949729919]}\n"
     ]
    }
   ],
   "source": [
    "print(history.history)"
   ]
  },
  {
   "cell_type": "code",
   "execution_count": 31,
   "metadata": {},
   "outputs": [
    {
     "data": {
      "image/png": "[encoded data removed]",
      "text/plain": [
       "<Figure size 432x288 with 1 Axes>"
      ]
     },
     "metadata": {
      "needs_background": "light"
     },
     "output_type": "display_data"
    }
   ],
   "source": [
    "plt.title('Accuracy')\n",
    "plt.plot(history.history['accuracy'], label='train')\n",
    "plt.plot(history.history['val_accuracy'], label='test')\n",
    "plt.legend()\n",
    "plt.show();"
   ]
  },
  {
   "cell_type": "code",
   "execution_count": 33,
   "metadata": {},
   "outputs": [
    {
     "name": "stdout",
     "output_type": "stream",
     "text": [
      "0    shall ensure surface discharges site comply discharge limits volume quality set epl\n",
      "Name: 0, dtype: object\n",
      "Shape of data tensor: (1, 100)\n",
      "[[ 0  0  0  0  0  0  0  0  0  0  0  0  0  0  0  0  0  0  0  0  0  0  0  0\n",
      "   0  0  0  0  0  0  0  0  0  0  0  0  0  0  0  0  0  0  0  0  0  0  0  0\n",
      "   0  0  0  0  0  0  0  0  0  0  0  0  0  0  0  0  0  0  0  0  0  0  0  0\n",
      "   0  0  0  0  0  0  0  0  0  0  0  0  0  0  0  0  4 12  8 88 10 19 42 93\n",
      "  63 13 99 37]]\n",
      "[[6.3773699e-04 1.9400406e-05 7.0562943e-05 4.7721016e-05 3.2125527e-04\n",
      "  9.9890327e-01]] 5\n"
     ]
    }
   ],
   "source": [
    "tokenizer = joblib.load(\"jup_data_tokenizer.joblib\")\n",
    "\n",
    "new_sub_header = ['The Proponent shall ensure that all surface water discharges from the site comply with the discharge limits (both volume and quality) set for the project in any EPL.']\n",
    "\n",
    "df_new = pd.DataFrame(new_sub_header)\n",
    "df_new[0] = df_new[0].apply(clean_text)\n",
    "df_new[0] = df_new[0].str.replace('\\d+', '')\n",
    "\n",
    "pd.set_option('display.max_colwidth', None)\n",
    "print(str(df_new[0]))\n",
    "\n",
    "\n",
    "seq = tokenizer.texts_to_sequences(df_new[0].values)\n",
    "padded = pad_sequences(seq, maxlen=MAX_SEQUENCE_LENGTH)\n",
    "print('Shape of data tensor:', padded.shape)\n",
    "print(padded)\n",
    "\n",
    "pred = model.predict(padded)\n",
    "labels = ['0','1', '2', '3', '4', '5']\n",
    "print(pred, labels[np.argmax(pred)])\n",
    "#print(pred,[np.argmax(pred)])                 "
   ]
  },
  {
   "cell_type": "code",
   "execution_count": null,
   "metadata": {},
   "outputs": [],
   "source": [
    "\n"
   ]
  },
  {
   "cell_type": "code",
   "execution_count": null,
   "metadata": {},
   "outputs": [],
   "source": []
  },
  {
   "cell_type": "code",
   "execution_count": null,
   "metadata": {},
   "outputs": [],
   "source": []
  },
  {
   "cell_type": "code",
   "execution_count": null,
   "metadata": {},
   "outputs": [],
   "source": []
  },
  {
   "cell_type": "code",
   "execution_count": null,
   "metadata": {},
   "outputs": [],
   "source": []
  }
 ],
 "metadata": {
  "kernelspec": {
   "display_name": "Python 3",
   "language": "python",
   "name": "python3"
  },
  "language_info": {
   "codemirror_mode": {
    "name": "ipython",
    "version": 3
   },
   "file_extension": ".py",
   "mimetype": "text/x-python",
   "name": "python",
   "nbconvert_exporter": "python",
   "pygments_lexer": "ipython3",
   "version": "3.8.6"
  }
 },
 "nbformat": 4,
 "nbformat_minor": 4
}
